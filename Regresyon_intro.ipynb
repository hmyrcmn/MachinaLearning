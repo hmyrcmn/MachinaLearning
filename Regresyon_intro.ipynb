{
  "nbformat": 4,
  "nbformat_minor": 0,
  "metadata": {
    "colab": {
      "provenance": [],
      "authorship_tag": "ABX9TyOha+BOW8ijAjGO8IyhtaZH",
      "include_colab_link": true
    },
    "kernelspec": {
      "name": "python3",
      "display_name": "Python 3"
    },
    "language_info": {
      "name": "python"
    }
  },
  "cells": [
    {
      "cell_type": "markdown",
      "metadata": {
        "id": "view-in-github",
        "colab_type": "text"
      },
      "source": [
        "<a href=\"https://colab.research.google.com/github/hmyrcmn/MachinaLearning/blob/main/Regresyon_intro.ipynb\" target=\"_parent\"><img src=\"https://colab.research.google.com/assets/colab-badge.svg\" alt=\"Open In Colab\"/></a>"
      ]
    },
    {
      "cell_type": "code",
      "source": [
        "from sklearn.linear_model import LinearRegression\n",
        "import numpy as np\n",
        "\n",
        "# Örnek X ve Y verileri, gerçek verilerin yerine konulmalıdır\n",
        "X = np.array([[1, 2, 3], [4, 5, 6], [7, 8, 9]])\n",
        "Y = np.array([10, 20, 30])\n",
        "\n",
        "reg = LinearRegression()\n",
        "reg.fit(X, Y)\n",
        "\n",
        "print(f\"Score: {reg.score(X, Y)}\")\n",
        "print(f\"Coefficient: {reg.coef_}\")\n",
        "print(f\"Intercept: {reg.intercept_}\")"
      ],
      "metadata": {
        "colab": {
          "base_uri": "https://localhost:8080/"
        },
        "id": "FFxRcBMAW11t",
        "outputId": "25f75e64-d1df-4e3e-d4f4-7902b934c39f"
      },
      "execution_count": 9,
      "outputs": [
        {
          "output_type": "stream",
          "name": "stdout",
          "text": [
            "Score: 1.0\n",
            "Coefficient: [1.11111111 1.11111111 1.11111111]\n",
            "Intercept: 3.333333333333332\n"
          ]
        }
      ]
    },
    {
      "cell_type": "code",
      "execution_count": 10,
      "metadata": {
        "id": "nhfmeg9np4cy",
        "colab": {
          "base_uri": "https://localhost:8080/"
        },
        "outputId": "7ecd8905-6127-4190-d332-7370f794f876"
      },
      "outputs": [
        {
          "output_type": "stream",
          "name": "stdout",
          "text": [
            "Lütfen metrekare değerini girin: 200\n",
            "200.0 metrekarelik evin tahmini fiyatı: 408878.50467289716\n"
          ]
        }
      ],
      "source": [
        "from sklearn.linear_model import LinearRegression\n",
        "import numpy as np\n",
        "\n",
        "# Kullanıcıdan metrekare değerini girmesini isteyin\n",
        "metrekare = float(input(\"Lütfen metrekare değerini girin: \"))\n",
        "\n",
        "\n",
        "# Modeli oluşturma ve eğitme\n",
        "X = np.array([[80], [100], [120], [150]])  # Eğitim verisi: Evlerin metrekareleri\n",
        "Y = np.array([200000, 250000, 280000, 320000])  # Eğitim verisi: Evlerin fiyatları\n",
        "reg = LinearRegression()\n",
        "reg.fit(X, Y)\n",
        "\n",
        "# Kullanıcının girdiği metrekare değerine göre tahmin yapma\n",
        "tahmini_fiyat = reg.predict(np.array([[metrekare]]))\n",
        "\n",
        "print(f\"{metrekare} metrekarelik evin tahmini fiyatı: {tahmini_fiyat[0]}\")\n"
      ]
    },
    {
      "cell_type": "code",
      "source": [
        "# Modelin puanını (score) hesapla\n",
        "score = reg.score(X, Y)\n",
        "\n",
        "# Modelin kesim noktasını (intercept) bul\n",
        "intercept = reg.intercept_\n",
        "print(f\"Coefficient: {reg.coef_}\")\n",
        "print(f\"Modelin Puanı (Score): {score}\")\n",
        "print(f\"Kesim Noktası (Intercept): {intercept}\")\n"
      ],
      "metadata": {
        "colab": {
          "base_uri": "https://localhost:8080/"
        },
        "id": "m3FzA_VPXMAs",
        "outputId": "8afd85b4-18de-4c45-9bb2-0637a08fda58"
      },
      "execution_count": 11,
      "outputs": [
        {
          "output_type": "stream",
          "name": "stdout",
          "text": [
            "Coefficient: [1672.89719626]\n",
            "Modelin Puanı (Score): 0.9754025997747268\n",
            "Kesim Noktası (Intercept): 74299.0654205608\n"
          ]
        }
      ]
    }
  ]
}